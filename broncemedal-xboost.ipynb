{
 "cells": [
  {
   "cell_type": "code",
   "execution_count": 1,
   "id": "cb76bf5e",
   "metadata": {
    "execution": {
     "iopub.execute_input": "2023-05-27T21:08:40.327508Z",
     "iopub.status.busy": "2023-05-27T21:08:40.327114Z",
     "iopub.status.idle": "2023-05-27T21:08:41.916342Z",
     "shell.execute_reply": "2023-05-27T21:08:41.915029Z"
    },
    "papermill": {
     "duration": 1.60127,
     "end_time": "2023-05-27T21:08:41.919216",
     "exception": false,
     "start_time": "2023-05-27T21:08:40.317946",
     "status": "completed"
    },
    "tags": []
   },
   "outputs": [
    {
     "name": "stderr",
     "output_type": "stream",
     "text": [
      "/opt/conda/lib/python3.10/site-packages/scipy/__init__.py:146: UserWarning: A NumPy version >=1.16.5 and <1.23.0 is required for this version of SciPy (detected version 1.23.5\n",
      "  warnings.warn(f\"A NumPy version >={np_minversion} and <{np_maxversion}\"\n"
     ]
    }
   ],
   "source": [
    "import pandas as pd\n",
    "import numpy as np\n",
    "import xgboost as xgb\n",
    "#Feature importances\n",
    "import matplotlib.pyplot as plt\n",
    "from sklearn.model_selection import KFold"
   ]
  },
  {
   "cell_type": "code",
   "execution_count": 2,
   "id": "39d9ca05",
   "metadata": {
    "execution": {
     "iopub.execute_input": "2023-05-27T21:08:41.935046Z",
     "iopub.status.busy": "2023-05-27T21:08:41.934655Z",
     "iopub.status.idle": "2023-05-27T21:08:41.998532Z",
     "shell.execute_reply": "2023-05-27T21:08:41.997427Z"
    },
    "papermill": {
     "duration": 0.074707,
     "end_time": "2023-05-27T21:08:42.001147",
     "exception": false,
     "start_time": "2023-05-27T21:08:41.926440",
     "status": "completed"
    },
    "tags": []
   },
   "outputs": [],
   "source": [
    "raw = pd.read_csv(\"/kaggle/input/icr-identify-age-related-conditions/train.csv\")\n",
    "greeks = pd.read_csv(\"/kaggle/input/icr-identify-age-related-conditions/greeks.csv\")\n",
    "test = pd.read_csv(\"/kaggle/input/icr-identify-age-related-conditions/test.csv\")"
   ]
  },
  {
   "cell_type": "code",
   "execution_count": 3,
   "id": "34f4ed58",
   "metadata": {
    "execution": {
     "iopub.execute_input": "2023-05-27T21:08:42.017372Z",
     "iopub.status.busy": "2023-05-27T21:08:42.016645Z",
     "iopub.status.idle": "2023-05-27T21:08:42.024156Z",
     "shell.execute_reply": "2023-05-27T21:08:42.023370Z"
    },
    "papermill": {
     "duration": 0.018058,
     "end_time": "2023-05-27T21:08:42.026302",
     "exception": false,
     "start_time": "2023-05-27T21:08:42.008244",
     "status": "completed"
    },
    "tags": []
   },
   "outputs": [],
   "source": [
    "# https://www.kaggle.com/code/datafan07/icr-simple-eda-baseline\n",
    "def balance_logloss(y_true, y_pred):\n",
    "    \n",
    "    y_pred = np.stack([1-y_pred,y_pred]).T\n",
    "    y_pred = np.clip(y_pred, 1e-15, 1-1e-15)\n",
    "    y_pred / np.sum(y_pred, axis=1)[:, None]\n",
    "    nc = np.bincount(y_true)\n",
    "    \n",
    "    logloss = (-1/nc[0]*(np.sum(np.where(y_true==0,1,0) * np.log(y_pred[:,0]))) - 1/nc[1]*(np.sum(np.where(y_true!=0,1,0) * np.log(y_pred[:,1])))) / 2\n",
    "    \n",
    "    return logloss"
   ]
  },
  {
   "cell_type": "code",
   "execution_count": 4,
   "id": "bcd768dc",
   "metadata": {
    "execution": {
     "iopub.execute_input": "2023-05-27T21:08:42.042882Z",
     "iopub.status.busy": "2023-05-27T21:08:42.042089Z",
     "iopub.status.idle": "2023-05-27T21:08:42.047068Z",
     "shell.execute_reply": "2023-05-27T21:08:42.045880Z"
    },
    "papermill": {
     "duration": 0.01587,
     "end_time": "2023-05-27T21:08:42.049480",
     "exception": false,
     "start_time": "2023-05-27T21:08:42.033610",
     "status": "completed"
    },
    "tags": []
   },
   "outputs": [],
   "source": [
    "df = raw.copy()"
   ]
  },
  {
   "cell_type": "code",
   "execution_count": 5,
   "id": "b0e5ebca",
   "metadata": {
    "execution": {
     "iopub.execute_input": "2023-05-27T21:08:42.065088Z",
     "iopub.status.busy": "2023-05-27T21:08:42.064695Z",
     "iopub.status.idle": "2023-05-27T21:08:42.115586Z",
     "shell.execute_reply": "2023-05-27T21:08:42.114432Z"
    },
    "papermill": {
     "duration": 0.061339,
     "end_time": "2023-05-27T21:08:42.117955",
     "exception": false,
     "start_time": "2023-05-27T21:08:42.056616",
     "status": "completed"
    },
    "tags": []
   },
   "outputs": [
    {
     "data": {
      "text/html": [
       "<div>\n",
       "<style scoped>\n",
       "    .dataframe tbody tr th:only-of-type {\n",
       "        vertical-align: middle;\n",
       "    }\n",
       "\n",
       "    .dataframe tbody tr th {\n",
       "        vertical-align: top;\n",
       "    }\n",
       "\n",
       "    .dataframe thead th {\n",
       "        text-align: right;\n",
       "    }\n",
       "</style>\n",
       "<table border=\"1\" class=\"dataframe\">\n",
       "  <thead>\n",
       "    <tr style=\"text-align: right;\">\n",
       "      <th></th>\n",
       "      <th>Id</th>\n",
       "      <th>AB</th>\n",
       "      <th>AF</th>\n",
       "      <th>AH</th>\n",
       "      <th>AM</th>\n",
       "      <th>AR</th>\n",
       "      <th>AX</th>\n",
       "      <th>AY</th>\n",
       "      <th>AZ</th>\n",
       "      <th>BC</th>\n",
       "      <th>...</th>\n",
       "      <th>FL</th>\n",
       "      <th>FR</th>\n",
       "      <th>FS</th>\n",
       "      <th>GB</th>\n",
       "      <th>GE</th>\n",
       "      <th>GF</th>\n",
       "      <th>GH</th>\n",
       "      <th>GI</th>\n",
       "      <th>GL</th>\n",
       "      <th>Class</th>\n",
       "    </tr>\n",
       "  </thead>\n",
       "  <tbody>\n",
       "    <tr>\n",
       "      <th>0</th>\n",
       "      <td>000ff2bfdfe9</td>\n",
       "      <td>0.209377</td>\n",
       "      <td>3109.03329</td>\n",
       "      <td>85.200147</td>\n",
       "      <td>22.394407</td>\n",
       "      <td>8.138688</td>\n",
       "      <td>0.699861</td>\n",
       "      <td>0.025578</td>\n",
       "      <td>9.812214</td>\n",
       "      <td>5.555634</td>\n",
       "      <td>...</td>\n",
       "      <td>7.298162</td>\n",
       "      <td>1.73855</td>\n",
       "      <td>0.094822</td>\n",
       "      <td>11.339138</td>\n",
       "      <td>72.611063</td>\n",
       "      <td>2003.810319</td>\n",
       "      <td>22.136229</td>\n",
       "      <td>69.834944</td>\n",
       "      <td>0.120343</td>\n",
       "      <td>1</td>\n",
       "    </tr>\n",
       "    <tr>\n",
       "      <th>1</th>\n",
       "      <td>007255e47698</td>\n",
       "      <td>0.145282</td>\n",
       "      <td>978.76416</td>\n",
       "      <td>85.200147</td>\n",
       "      <td>36.968889</td>\n",
       "      <td>8.138688</td>\n",
       "      <td>3.632190</td>\n",
       "      <td>0.025578</td>\n",
       "      <td>13.517790</td>\n",
       "      <td>1.229900</td>\n",
       "      <td>...</td>\n",
       "      <td>0.173229</td>\n",
       "      <td>0.49706</td>\n",
       "      <td>0.568932</td>\n",
       "      <td>9.292698</td>\n",
       "      <td>72.611063</td>\n",
       "      <td>27981.562750</td>\n",
       "      <td>29.135430</td>\n",
       "      <td>32.131996</td>\n",
       "      <td>21.978000</td>\n",
       "      <td>0</td>\n",
       "    </tr>\n",
       "    <tr>\n",
       "      <th>2</th>\n",
       "      <td>013f2bd269f5</td>\n",
       "      <td>0.470030</td>\n",
       "      <td>2635.10654</td>\n",
       "      <td>85.200147</td>\n",
       "      <td>32.360553</td>\n",
       "      <td>8.138688</td>\n",
       "      <td>6.732840</td>\n",
       "      <td>0.025578</td>\n",
       "      <td>12.824570</td>\n",
       "      <td>1.229900</td>\n",
       "      <td>...</td>\n",
       "      <td>7.709560</td>\n",
       "      <td>0.97556</td>\n",
       "      <td>1.198821</td>\n",
       "      <td>37.077772</td>\n",
       "      <td>88.609437</td>\n",
       "      <td>13676.957810</td>\n",
       "      <td>28.022851</td>\n",
       "      <td>35.192676</td>\n",
       "      <td>0.196941</td>\n",
       "      <td>0</td>\n",
       "    </tr>\n",
       "    <tr>\n",
       "      <th>3</th>\n",
       "      <td>043ac50845d5</td>\n",
       "      <td>0.252107</td>\n",
       "      <td>3819.65177</td>\n",
       "      <td>120.201618</td>\n",
       "      <td>77.112203</td>\n",
       "      <td>8.138688</td>\n",
       "      <td>3.685344</td>\n",
       "      <td>0.025578</td>\n",
       "      <td>11.053708</td>\n",
       "      <td>1.229900</td>\n",
       "      <td>...</td>\n",
       "      <td>6.122162</td>\n",
       "      <td>0.49706</td>\n",
       "      <td>0.284466</td>\n",
       "      <td>18.529584</td>\n",
       "      <td>82.416803</td>\n",
       "      <td>2094.262452</td>\n",
       "      <td>39.948656</td>\n",
       "      <td>90.493248</td>\n",
       "      <td>0.155829</td>\n",
       "      <td>0</td>\n",
       "    </tr>\n",
       "    <tr>\n",
       "      <th>4</th>\n",
       "      <td>044fb8a146ec</td>\n",
       "      <td>0.380297</td>\n",
       "      <td>3733.04844</td>\n",
       "      <td>85.200147</td>\n",
       "      <td>14.103738</td>\n",
       "      <td>8.138688</td>\n",
       "      <td>3.942255</td>\n",
       "      <td>0.054810</td>\n",
       "      <td>3.396778</td>\n",
       "      <td>102.151980</td>\n",
       "      <td>...</td>\n",
       "      <td>8.153058</td>\n",
       "      <td>48.50134</td>\n",
       "      <td>0.121914</td>\n",
       "      <td>16.408728</td>\n",
       "      <td>146.109943</td>\n",
       "      <td>8524.370502</td>\n",
       "      <td>45.381316</td>\n",
       "      <td>36.262628</td>\n",
       "      <td>0.096614</td>\n",
       "      <td>1</td>\n",
       "    </tr>\n",
       "  </tbody>\n",
       "</table>\n",
       "<p>5 rows × 58 columns</p>\n",
       "</div>"
      ],
      "text/plain": [
       "             Id        AB          AF          AH         AM        AR  \\\n",
       "0  000ff2bfdfe9  0.209377  3109.03329   85.200147  22.394407  8.138688   \n",
       "1  007255e47698  0.145282   978.76416   85.200147  36.968889  8.138688   \n",
       "2  013f2bd269f5  0.470030  2635.10654   85.200147  32.360553  8.138688   \n",
       "3  043ac50845d5  0.252107  3819.65177  120.201618  77.112203  8.138688   \n",
       "4  044fb8a146ec  0.380297  3733.04844   85.200147  14.103738  8.138688   \n",
       "\n",
       "         AX        AY         AZ          BC  ...        FL        FR  \\\n",
       "0  0.699861  0.025578   9.812214    5.555634  ...  7.298162   1.73855   \n",
       "1  3.632190  0.025578  13.517790    1.229900  ...  0.173229   0.49706   \n",
       "2  6.732840  0.025578  12.824570    1.229900  ...  7.709560   0.97556   \n",
       "3  3.685344  0.025578  11.053708    1.229900  ...  6.122162   0.49706   \n",
       "4  3.942255  0.054810   3.396778  102.151980  ...  8.153058  48.50134   \n",
       "\n",
       "         FS         GB          GE            GF         GH         GI  \\\n",
       "0  0.094822  11.339138   72.611063   2003.810319  22.136229  69.834944   \n",
       "1  0.568932   9.292698   72.611063  27981.562750  29.135430  32.131996   \n",
       "2  1.198821  37.077772   88.609437  13676.957810  28.022851  35.192676   \n",
       "3  0.284466  18.529584   82.416803   2094.262452  39.948656  90.493248   \n",
       "4  0.121914  16.408728  146.109943   8524.370502  45.381316  36.262628   \n",
       "\n",
       "          GL  Class  \n",
       "0   0.120343      1  \n",
       "1  21.978000      0  \n",
       "2   0.196941      0  \n",
       "3   0.155829      0  \n",
       "4   0.096614      1  \n",
       "\n",
       "[5 rows x 58 columns]"
      ]
     },
     "execution_count": 5,
     "metadata": {},
     "output_type": "execute_result"
    }
   ],
   "source": [
    "df.head()"
   ]
  },
  {
   "cell_type": "code",
   "execution_count": 6,
   "id": "353b5d1c",
   "metadata": {
    "execution": {
     "iopub.execute_input": "2023-05-27T21:08:42.134699Z",
     "iopub.status.busy": "2023-05-27T21:08:42.134265Z",
     "iopub.status.idle": "2023-05-27T21:08:42.140833Z",
     "shell.execute_reply": "2023-05-27T21:08:42.139636Z"
    },
    "papermill": {
     "duration": 0.017426,
     "end_time": "2023-05-27T21:08:42.142986",
     "exception": false,
     "start_time": "2023-05-27T21:08:42.125560",
     "status": "completed"
    },
    "tags": []
   },
   "outputs": [],
   "source": [
    "# clean features\n",
    "def clean_features(df: pd.DataFrame) -> pd.DataFrame:\n",
    "    df.columns = df.columns.str.replace(' ', '') # remove spaces\n",
    "    df = df.fillna(df.mean(numeric_only=True))\n",
    "    df[\"EJ\"] = np.where(df[\"EJ\"] == \"A\", 1, 0)\n",
    "    return df"
   ]
  },
  {
   "cell_type": "code",
   "execution_count": 7,
   "id": "2fc4a807",
   "metadata": {
    "execution": {
     "iopub.execute_input": "2023-05-27T21:08:42.159030Z",
     "iopub.status.busy": "2023-05-27T21:08:42.158659Z",
     "iopub.status.idle": "2023-05-27T21:08:42.188482Z",
     "shell.execute_reply": "2023-05-27T21:08:42.187373Z"
    },
    "papermill": {
     "duration": 0.040643,
     "end_time": "2023-05-27T21:08:42.190929",
     "exception": false,
     "start_time": "2023-05-27T21:08:42.150286",
     "status": "completed"
    },
    "tags": []
   },
   "outputs": [],
   "source": [
    "df  = df.pipe(clean_features)"
   ]
  },
  {
   "cell_type": "markdown",
   "id": "bcc5c9ef",
   "metadata": {
    "papermill": {
     "duration": 0.007187,
     "end_time": "2023-05-27T21:08:42.205592",
     "exception": false,
     "start_time": "2023-05-27T21:08:42.198405",
     "status": "completed"
    },
    "tags": []
   },
   "source": [
    "## Define Features and Target"
   ]
  },
  {
   "cell_type": "code",
   "execution_count": 8,
   "id": "3a21aa95",
   "metadata": {
    "execution": {
     "iopub.execute_input": "2023-05-27T21:08:42.222125Z",
     "iopub.status.busy": "2023-05-27T21:08:42.221739Z",
     "iopub.status.idle": "2023-05-27T21:08:42.227053Z",
     "shell.execute_reply": "2023-05-27T21:08:42.225955Z"
    },
    "papermill": {
     "duration": 0.016386,
     "end_time": "2023-05-27T21:08:42.229427",
     "exception": false,
     "start_time": "2023-05-27T21:08:42.213041",
     "status": "completed"
    },
    "tags": []
   },
   "outputs": [],
   "source": [
    "FEATURES = df.columns[1:-1]"
   ]
  },
  {
   "cell_type": "code",
   "execution_count": 9,
   "id": "512e5867",
   "metadata": {
    "execution": {
     "iopub.execute_input": "2023-05-27T21:08:42.246667Z",
     "iopub.status.busy": "2023-05-27T21:08:42.246237Z",
     "iopub.status.idle": "2023-05-27T21:08:42.253641Z",
     "shell.execute_reply": "2023-05-27T21:08:42.252552Z"
    },
    "papermill": {
     "duration": 0.018802,
     "end_time": "2023-05-27T21:08:42.255988",
     "exception": false,
     "start_time": "2023-05-27T21:08:42.237186",
     "status": "completed"
    },
    "tags": []
   },
   "outputs": [
    {
     "name": "stdout",
     "output_type": "stream",
     "text": [
      "Out classes are imbalanced in a ration :4.712962962962963 to 1 \n"
     ]
    }
   ],
   "source": [
    "target = df[\"Class\"]\n",
    "print(f\"Out classes are imbalanced in a ration :{len(target.loc[target == 0])/len(target.loc[target == 1])} to 1 \")"
   ]
  },
  {
   "cell_type": "code",
   "execution_count": 10,
   "id": "a7dad724",
   "metadata": {
    "execution": {
     "iopub.execute_input": "2023-05-27T21:08:42.273522Z",
     "iopub.status.busy": "2023-05-27T21:08:42.273120Z",
     "iopub.status.idle": "2023-05-27T21:08:42.278436Z",
     "shell.execute_reply": "2023-05-27T21:08:42.277371Z"
    },
    "papermill": {
     "duration": 0.016884,
     "end_time": "2023-05-27T21:08:42.280880",
     "exception": false,
     "start_time": "2023-05-27T21:08:42.263996",
     "status": "completed"
    },
    "tags": []
   },
   "outputs": [],
   "source": [
    "xgb_params = {\n",
    "    'objective': 'binary:logistic',\n",
    "    'booster': 'gbtree',\n",
    "    'learning_rate': 0.01,\n",
    "    'max_depth': 5,\n",
    "    \"lambda\": 0.01,\n",
    "    'alpha': 0.01,\n",
    "    \"seed\": 42,\n",
    "    \"early_stopping_rounds\":100 }\n"
   ]
  },
  {
   "cell_type": "code",
   "execution_count": 11,
   "id": "37776c4a",
   "metadata": {
    "execution": {
     "iopub.execute_input": "2023-05-27T21:08:42.297696Z",
     "iopub.status.busy": "2023-05-27T21:08:42.297307Z",
     "iopub.status.idle": "2023-05-27T21:14:38.461721Z",
     "shell.execute_reply": "2023-05-27T21:14:38.460801Z"
    },
    "papermill": {
     "duration": 356.175888,
     "end_time": "2023-05-27T21:14:38.464340",
     "exception": false,
     "start_time": "2023-05-27T21:08:42.288452",
     "status": "completed"
    },
    "tags": []
   },
   "outputs": [
    {
     "name": "stdout",
     "output_type": "stream",
     "text": [
      "-------------------------\n",
      "Bag 1\n",
      "-------------------------\n",
      "<generator object _BaseKFold.split at 0x7ce30ba08350>\n",
      "=> Fold 1, \n",
      "=> Fold 2, \n",
      "=> Fold 3, \n",
      "=> Fold 4, \n",
      "=> Fold 5, \n",
      "=> Fold 6, \n",
      "=> Fold 7, \n",
      "=> Fold 8, \n",
      "=> Fold 9, \n",
      "=> Fold 10, \n",
      "-------------------------\n",
      "Bag 2\n",
      "-------------------------\n",
      "<generator object _BaseKFold.split at 0x7ce30ba08430>\n",
      "=> Fold 1, \n",
      "=> Fold 2, \n",
      "=> Fold 3, \n",
      "=> Fold 4, \n",
      "=> Fold 5, \n",
      "=> Fold 6, \n",
      "=> Fold 7, \n",
      "=> Fold 8, \n",
      "=> Fold 9, \n",
      "=> Fold 10, \n",
      "-------------------------\n",
      "Bag 3\n",
      "-------------------------\n",
      "<generator object _BaseKFold.split at 0x7ce30ba08430>\n",
      "=> Fold 1, \n",
      "=> Fold 2, \n",
      "=> Fold 3, \n",
      "=> Fold 4, \n",
      "=> Fold 5, \n",
      "=> Fold 6, \n",
      "=> Fold 7, \n",
      "=> Fold 8, \n",
      "=> Fold 9, \n",
      "=> Fold 10, \n",
      "-------------------------\n",
      "Bag 4\n",
      "-------------------------\n",
      "<generator object _BaseKFold.split at 0x7ce30ba08430>\n",
      "=> Fold 1, \n",
      "=> Fold 2, \n",
      "=> Fold 3, \n",
      "=> Fold 4, \n",
      "=> Fold 5, \n",
      "=> Fold 6, \n",
      "=> Fold 7, \n",
      "=> Fold 8, \n",
      "=> Fold 9, \n",
      "=> Fold 10, \n",
      "-------------------------\n",
      "Bag 5\n",
      "-------------------------\n",
      "<generator object _BaseKFold.split at 0x7ce30ba08430>\n",
      "=> Fold 1, \n",
      "=> Fold 2, \n",
      "=> Fold 3, \n",
      "=> Fold 4, \n",
      "=> Fold 5, \n",
      "=> Fold 6, \n",
      "=> Fold 7, \n",
      "=> Fold 8, \n",
      "=> Fold 9, \n",
      "=> Fold 10, \n",
      "-------------------------\n",
      "Bag 6\n",
      "-------------------------\n",
      "<generator object _BaseKFold.split at 0x7ce30ba08430>\n",
      "=> Fold 1, \n",
      "=> Fold 2, \n",
      "=> Fold 3, \n",
      "=> Fold 4, \n",
      "=> Fold 5, \n",
      "=> Fold 6, \n",
      "=> Fold 7, \n",
      "=> Fold 8, \n",
      "=> Fold 9, \n",
      "=> Fold 10, \n",
      "-------------------------\n",
      "Bag 7\n",
      "-------------------------\n",
      "<generator object _BaseKFold.split at 0x7ce30ba08430>\n",
      "=> Fold 1, \n",
      "=> Fold 2, \n",
      "=> Fold 3, \n",
      "=> Fold 4, \n",
      "=> Fold 5, \n",
      "=> Fold 6, \n",
      "=> Fold 7, \n",
      "=> Fold 8, \n",
      "=> Fold 9, \n",
      "=> Fold 10, \n",
      "-------------------------\n",
      "Bag 8\n",
      "-------------------------\n",
      "<generator object _BaseKFold.split at 0x7ce30ba08430>\n",
      "=> Fold 1, \n",
      "=> Fold 2, \n",
      "=> Fold 3, \n",
      "=> Fold 4, \n",
      "=> Fold 5, \n",
      "=> Fold 6, \n",
      "=> Fold 7, \n",
      "=> Fold 8, \n",
      "=> Fold 9, \n",
      "=> Fold 10, \n",
      "-------------------------\n",
      "Bag 9\n",
      "-------------------------\n",
      "<generator object _BaseKFold.split at 0x7ce30ba08430>\n",
      "=> Fold 1, \n",
      "=> Fold 2, \n",
      "=> Fold 3, \n",
      "=> Fold 4, \n",
      "=> Fold 5, \n",
      "=> Fold 6, \n",
      "=> Fold 7, \n",
      "=> Fold 8, \n",
      "=> Fold 9, \n",
      "=> Fold 10, \n",
      "-------------------------\n",
      "Bag 10\n",
      "-------------------------\n",
      "<generator object _BaseKFold.split at 0x7ce30ba08430>\n",
      "=> Fold 1, \n",
      "=> Fold 2, \n",
      "=> Fold 3, \n",
      "=> Fold 4, \n",
      "=> Fold 5, \n",
      "=> Fold 6, \n",
      "=> Fold 7, \n",
      "=> Fold 8, \n",
      "=> Fold 9, \n",
      "=> Fold 10, \n",
      "-------------------------\n",
      "Bag 11\n",
      "-------------------------\n",
      "<generator object _BaseKFold.split at 0x7ce30ba08430>\n",
      "=> Fold 1, \n",
      "=> Fold 2, \n",
      "=> Fold 3, \n",
      "=> Fold 4, \n",
      "=> Fold 5, \n",
      "=> Fold 6, \n",
      "=> Fold 7, \n",
      "=> Fold 8, \n",
      "=> Fold 9, \n",
      "=> Fold 10, \n",
      "-------------------------\n",
      "Bag 12\n",
      "-------------------------\n",
      "<generator object _BaseKFold.split at 0x7ce30ba08430>\n",
      "=> Fold 1, \n",
      "=> Fold 2, \n",
      "=> Fold 3, \n",
      "=> Fold 4, \n",
      "=> Fold 5, \n",
      "=> Fold 6, \n",
      "=> Fold 7, \n",
      "=> Fold 8, \n",
      "=> Fold 9, \n",
      "=> Fold 10, \n",
      "-------------------------\n",
      "Bag 13\n",
      "-------------------------\n",
      "<generator object _BaseKFold.split at 0x7ce30ba08430>\n",
      "=> Fold 1, \n",
      "=> Fold 2, \n",
      "=> Fold 3, \n",
      "=> Fold 4, \n",
      "=> Fold 5, \n",
      "=> Fold 6, \n",
      "=> Fold 7, \n",
      "=> Fold 8, \n",
      "=> Fold 9, \n",
      "=> Fold 10, \n",
      "-------------------------\n",
      "Bag 14\n",
      "-------------------------\n",
      "<generator object _BaseKFold.split at 0x7ce30ba08430>\n",
      "=> Fold 1, \n",
      "=> Fold 2, \n",
      "=> Fold 3, \n",
      "=> Fold 4, \n",
      "=> Fold 5, \n",
      "=> Fold 6, \n",
      "=> Fold 7, \n",
      "=> Fold 8, \n",
      "=> Fold 9, \n",
      "=> Fold 10, \n",
      "-------------------------\n",
      "Bag 15\n",
      "-------------------------\n",
      "<generator object _BaseKFold.split at 0x7ce30ba08350>\n",
      "=> Fold 1, \n",
      "=> Fold 2, \n",
      "=> Fold 3, \n",
      "=> Fold 4, \n",
      "=> Fold 5, \n",
      "=> Fold 6, \n",
      "=> Fold 7, \n",
      "=> Fold 8, \n",
      "=> Fold 9, \n",
      "=> Fold 10, \n",
      "-------------------------\n",
      "Bag 16\n",
      "-------------------------\n",
      "<generator object _BaseKFold.split at 0x7ce30ba08890>\n",
      "=> Fold 1, \n",
      "=> Fold 2, \n",
      "=> Fold 3, \n",
      "=> Fold 4, \n",
      "=> Fold 5, \n",
      "=> Fold 6, \n",
      "=> Fold 7, \n",
      "=> Fold 8, \n",
      "=> Fold 9, \n",
      "=> Fold 10, \n",
      "-------------------------\n",
      "Bag 17\n",
      "-------------------------\n",
      "<generator object _BaseKFold.split at 0x7ce30ba08890>\n",
      "=> Fold 1, \n",
      "=> Fold 2, \n",
      "=> Fold 3, \n",
      "=> Fold 4, \n",
      "=> Fold 5, \n",
      "=> Fold 6, \n",
      "=> Fold 7, \n",
      "=> Fold 8, \n",
      "=> Fold 9, \n",
      "=> Fold 10, \n",
      "-------------------------\n",
      "Bag 18\n",
      "-------------------------\n",
      "<generator object _BaseKFold.split at 0x7ce30ba08890>\n",
      "=> Fold 1, \n",
      "=> Fold 2, \n",
      "=> Fold 3, \n",
      "=> Fold 4, \n",
      "=> Fold 5, \n",
      "=> Fold 6, \n",
      "=> Fold 7, \n",
      "=> Fold 8, \n",
      "=> Fold 9, \n",
      "=> Fold 10, \n",
      "-------------------------\n",
      "Bag 19\n",
      "-------------------------\n",
      "<generator object _BaseKFold.split at 0x7ce30ba08890>\n",
      "=> Fold 1, \n",
      "=> Fold 2, \n",
      "=> Fold 3, \n",
      "=> Fold 4, \n",
      "=> Fold 5, \n",
      "=> Fold 6, \n",
      "=> Fold 7, \n",
      "=> Fold 8, \n",
      "=> Fold 9, \n",
      "=> Fold 10, \n",
      "-------------------------\n",
      "Bag 20\n",
      "-------------------------\n",
      "<generator object _BaseKFold.split at 0x7ce30ba08890>\n",
      "=> Fold 1, \n",
      "=> Fold 2, \n",
      "=> Fold 3, \n",
      "=> Fold 4, \n",
      "=> Fold 5, \n",
      "=> Fold 6, \n",
      "=> Fold 7, \n",
      "=> Fold 8, \n",
      "=> Fold 9, \n",
      "=> Fold 10, \n"
     ]
    }
   ],
   "source": [
    "BAGS = 20\n",
    "SEED = 42\n",
    "FOLDS = 10\n",
    "models={}\n",
    "oof = np.zeros(len(df))\n",
    "downsample_rate = 0.7\n",
    "\n",
    "for bag in range(BAGS):\n",
    "    print(\"-\"*25)\n",
    "    print(f\"Bag {bag+1}\")\n",
    "    print(\"-\"*25)\n",
    "    models[bag]=[]\n",
    "    \n",
    "    simple_folds = KFold(n_splits=FOLDS, shuffle=True, random_state=SEED+bag)\n",
    "    print(simple_folds.split(X=df[FEATURES], y=df[\"Class\"]))\n",
    "    for fold, (train_idx, valid_idx) in enumerate(simple_folds.split(X=df[FEATURES], y=df[\"Class\"])):\n",
    "        print(f\"=> Fold {fold+1}, \")\n",
    "\n",
    "        #Downsampling majority class\n",
    "        y_train = df.loc[train_idx, \"Class\"]\n",
    "\n",
    "        remove = y_train.loc[y_train==0].sample(frac=downsample_rate, random_state=SEED+bag).index.values\n",
    "        train_idx = np.setdiff1d(train_idx, remove)\n",
    "\n",
    "        #Splitting data\n",
    "        X_train = df.loc[train_idx, FEATURES]\n",
    "        y_train = df.loc[train_idx, \"Class\"]\n",
    "        X_valid = df.loc[valid_idx, FEATURES]\n",
    "        y_valid = df.loc[valid_idx, \"Class\"]\n",
    "\n",
    "        #Train Model\n",
    "        xgb_c = xgb.XGBClassifier(**xgb_params, n_estimators=10000, n_jobs=-1,)\n",
    "        xgb_c.fit(X_train, y_train, eval_set=[(X_valid, y_valid)] , verbose=0)\n",
    "\n",
    "        oof[valid_idx] += xgb_c.predict_proba(X_valid)[:,1]/BAGS\n",
    "        models[bag].append(xgb_c)"
   ]
  },
  {
   "cell_type": "code",
   "execution_count": 12,
   "id": "6c53be60",
   "metadata": {
    "execution": {
     "iopub.execute_input": "2023-05-27T21:14:38.516545Z",
     "iopub.status.busy": "2023-05-27T21:14:38.516160Z",
     "iopub.status.idle": "2023-05-27T21:14:38.523428Z",
     "shell.execute_reply": "2023-05-27T21:14:38.522083Z"
    },
    "papermill": {
     "duration": 0.035819,
     "end_time": "2023-05-27T21:14:38.526067",
     "exception": false,
     "start_time": "2023-05-27T21:14:38.490248",
     "status": "completed"
    },
    "tags": []
   },
   "outputs": [
    {
     "name": "stdout",
     "output_type": "stream",
     "text": [
      "CV_score: 0.2487600297438558\n"
     ]
    }
   ],
   "source": [
    "cv_logloss = balance_logloss(df[\"Class\"].values, oof)\n",
    "print(\"CV_score:\", cv_logloss)"
   ]
  },
  {
   "cell_type": "code",
   "execution_count": 13,
   "id": "711aecf1",
   "metadata": {
    "execution": {
     "iopub.execute_input": "2023-05-27T21:14:38.586852Z",
     "iopub.status.busy": "2023-05-27T21:14:38.586255Z",
     "iopub.status.idle": "2023-05-27T21:14:38.592640Z",
     "shell.execute_reply": "2023-05-27T21:14:38.591254Z"
    },
    "papermill": {
     "duration": 0.046928,
     "end_time": "2023-05-27T21:14:38.597838",
     "exception": false,
     "start_time": "2023-05-27T21:14:38.550910",
     "status": "completed"
    },
    "tags": []
   },
   "outputs": [],
   "source": [
    "import matplotlib.pyplot as plt"
   ]
  },
  {
   "cell_type": "code",
   "execution_count": 14,
   "id": "5cf689b8",
   "metadata": {
    "execution": {
     "iopub.execute_input": "2023-05-27T21:14:38.659315Z",
     "iopub.status.busy": "2023-05-27T21:14:38.658425Z",
     "iopub.status.idle": "2023-05-27T21:14:39.044670Z",
     "shell.execute_reply": "2023-05-27T21:14:39.043347Z"
    },
    "papermill": {
     "duration": 0.419448,
     "end_time": "2023-05-27T21:14:39.047337",
     "exception": false,
     "start_time": "2023-05-27T21:14:38.627889",
     "status": "completed"
    },
    "tags": []
   },
   "outputs": [
    {
     "data": {
      "image/png": "[encoded data removed]",
      "text/plain": [
       "<Figure size 640x480 with 1 Axes>"
      ]
     },
     "metadata": {},
     "output_type": "display_data"
    }
   ],
   "source": [
    "plt.hist(oof, bins=100)\n",
    "plt.show()"
   ]
  },
  {
   "cell_type": "markdown",
   "id": "806694a5",
   "metadata": {
    "papermill": {
     "duration": 0.024837,
     "end_time": "2023-05-27T21:14:39.097318",
     "exception": false,
     "start_time": "2023-05-27T21:14:39.072481",
     "status": "completed"
    },
    "tags": []
   },
   "source": [
    "## Submission"
   ]
  },
  {
   "cell_type": "code",
   "execution_count": 15,
   "id": "ce22cf92",
   "metadata": {
    "execution": {
     "iopub.execute_input": "2023-05-27T21:14:39.149215Z",
     "iopub.status.busy": "2023-05-27T21:14:39.148831Z",
     "iopub.status.idle": "2023-05-27T21:14:39.171463Z",
     "shell.execute_reply": "2023-05-27T21:14:39.170586Z"
    },
    "papermill": {
     "duration": 0.051707,
     "end_time": "2023-05-27T21:14:39.173997",
     "exception": false,
     "start_time": "2023-05-27T21:14:39.122290",
     "status": "completed"
    },
    "tags": []
   },
   "outputs": [],
   "source": [
    "test = test.pipe(clean_features)"
   ]
  },
  {
   "cell_type": "code",
   "execution_count": 16,
   "id": "5f4d08c8",
   "metadata": {
    "execution": {
     "iopub.execute_input": "2023-05-27T21:14:39.225898Z",
     "iopub.status.busy": "2023-05-27T21:14:39.225505Z",
     "iopub.status.idle": "2023-05-27T21:14:40.275454Z",
     "shell.execute_reply": "2023-05-27T21:14:40.274566Z"
    },
    "papermill": {
     "duration": 1.079476,
     "end_time": "2023-05-27T21:14:40.278519",
     "exception": false,
     "start_time": "2023-05-27T21:14:39.199043",
     "status": "completed"
    },
    "tags": []
   },
   "outputs": [],
   "source": [
    "predictions = np.zeros(len(test))\n",
    "for bag in range(BAGS):\n",
    "    for xgb_c in models[bag]:\n",
    "        X_test = test[FEATURES]\n",
    "        predictions += xgb_c.predict_proba(X_test)[:,1]/(BAGS*FOLDS)"
   ]
  },
  {
   "cell_type": "code",
   "execution_count": 17,
   "id": "ac9d6dec",
   "metadata": {
    "execution": {
     "iopub.execute_input": "2023-05-27T21:14:40.332355Z",
     "iopub.status.busy": "2023-05-27T21:14:40.331871Z",
     "iopub.status.idle": "2023-05-27T21:14:40.338246Z",
     "shell.execute_reply": "2023-05-27T21:14:40.337030Z"
    },
    "papermill": {
     "duration": 0.035378,
     "end_time": "2023-05-27T21:14:40.340624",
     "exception": false,
     "start_time": "2023-05-27T21:14:40.305246",
     "status": "completed"
    },
    "tags": []
   },
   "outputs": [],
   "source": [
    "submission = pd.DataFrame({\"Id\": test[\"Id\"], \"class_0\": 1 - predictions, \"class_1\": predictions})"
   ]
  },
  {
   "cell_type": "code",
   "execution_count": 18,
   "id": "70e2f98d",
   "metadata": {
    "execution": {
     "iopub.execute_input": "2023-05-27T21:14:40.392335Z",
     "iopub.status.busy": "2023-05-27T21:14:40.391948Z",
     "iopub.status.idle": "2023-05-27T21:14:40.403274Z",
     "shell.execute_reply": "2023-05-27T21:14:40.402384Z"
    },
    "papermill": {
     "duration": 0.039673,
     "end_time": "2023-05-27T21:14:40.405324",
     "exception": false,
     "start_time": "2023-05-27T21:14:40.365651",
     "status": "completed"
    },
    "tags": []
   },
   "outputs": [
    {
     "data": {
      "text/html": [
       "<div>\n",
       "<style scoped>\n",
       "    .dataframe tbody tr th:only-of-type {\n",
       "        vertical-align: middle;\n",
       "    }\n",
       "\n",
       "    .dataframe tbody tr th {\n",
       "        vertical-align: top;\n",
       "    }\n",
       "\n",
       "    .dataframe thead th {\n",
       "        text-align: right;\n",
       "    }\n",
       "</style>\n",
       "<table border=\"1\" class=\"dataframe\">\n",
       "  <thead>\n",
       "    <tr style=\"text-align: right;\">\n",
       "      <th></th>\n",
       "      <th>Id</th>\n",
       "      <th>class_0</th>\n",
       "      <th>class_1</th>\n",
       "    </tr>\n",
       "  </thead>\n",
       "  <tbody>\n",
       "    <tr>\n",
       "      <th>0</th>\n",
       "      <td>00eed32682bb</td>\n",
       "      <td>0.732587</td>\n",
       "      <td>0.267413</td>\n",
       "    </tr>\n",
       "    <tr>\n",
       "      <th>1</th>\n",
       "      <td>010ebe33f668</td>\n",
       "      <td>0.732587</td>\n",
       "      <td>0.267413</td>\n",
       "    </tr>\n",
       "    <tr>\n",
       "      <th>2</th>\n",
       "      <td>02fa521e1838</td>\n",
       "      <td>0.732587</td>\n",
       "      <td>0.267413</td>\n",
       "    </tr>\n",
       "    <tr>\n",
       "      <th>3</th>\n",
       "      <td>040e15f562a2</td>\n",
       "      <td>0.732587</td>\n",
       "      <td>0.267413</td>\n",
       "    </tr>\n",
       "    <tr>\n",
       "      <th>4</th>\n",
       "      <td>046e85c7cc7f</td>\n",
       "      <td>0.732587</td>\n",
       "      <td>0.267413</td>\n",
       "    </tr>\n",
       "  </tbody>\n",
       "</table>\n",
       "</div>"
      ],
      "text/plain": [
       "             Id   class_0   class_1\n",
       "0  00eed32682bb  0.732587  0.267413\n",
       "1  010ebe33f668  0.732587  0.267413\n",
       "2  02fa521e1838  0.732587  0.267413\n",
       "3  040e15f562a2  0.732587  0.267413\n",
       "4  046e85c7cc7f  0.732587  0.267413"
      ]
     },
     "execution_count": 18,
     "metadata": {},
     "output_type": "execute_result"
    }
   ],
   "source": [
    "submission.head()"
   ]
  },
  {
   "cell_type": "code",
   "execution_count": 19,
   "id": "bbaba4b4",
   "metadata": {
    "execution": {
     "iopub.execute_input": "2023-05-27T21:14:40.457910Z",
     "iopub.status.busy": "2023-05-27T21:14:40.456723Z",
     "iopub.status.idle": "2023-05-27T21:14:40.469300Z",
     "shell.execute_reply": "2023-05-27T21:14:40.468374Z"
    },
    "papermill": {
     "duration": 0.041455,
     "end_time": "2023-05-27T21:14:40.471909",
     "exception": false,
     "start_time": "2023-05-27T21:14:40.430454",
     "status": "completed"
    },
    "tags": []
   },
   "outputs": [],
   "source": [
    "submission.to_csv(\"submission.csv\", index=False)"
   ]
  }
 ],
 "metadata": {
  "kernelspec": {
   "display_name": "Python 3",
   "language": "python",
   "name": "python3"
  },
  "language_info": {
   "codemirror_mode": {
    "name": "ipython",
    "version": 3
   },
   "file_extension": ".py",
   "mimetype": "text/x-python",
   "name": "python",
   "nbconvert_exporter": "python",
   "pygments_lexer": "ipython3",
   "version": "3.10.10"
  },
  "papermill": {
   "default_parameters": {},
   "duration": 374.937504,
   "end_time": "2023-05-27T21:14:41.621662",
   "environment_variables": {},
   "exception": null,
   "input_path": "__notebook__.ipynb",
   "output_path": "__notebook__.ipynb",
   "parameters": {},
   "start_time": "2023-05-27T21:08:26.684158",
   "version": "2.4.0"
  }
 },
 "nbformat": 4,
 "nbformat_minor": 5
}
